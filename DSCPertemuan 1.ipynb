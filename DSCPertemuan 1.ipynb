{
 "cells": [
  {
   "cell_type": "code",
   "execution_count": 1,
   "metadata": {},
   "outputs": [
    {
     "output_type": "stream",
     "name": "stdout",
     "text": "Hello World\n"
    }
   ],
   "source": [
    "print(\"Hello World\")"
   ]
  },
  {
   "cell_type": "code",
   "execution_count": 2,
   "metadata": {},
   "outputs": [
    {
     "output_type": "stream",
     "name": "stdout",
     "text": "Hello, Python!\n"
    }
   ],
   "source": [
    "print(\"Hello, Python!\")"
   ]
  },
  {
   "cell_type": "code",
   "execution_count": 3,
   "metadata": {},
   "outputs": [
    {
     "output_type": "stream",
     "name": "stdout",
     "text": "Siapa kamu? kenalan dong.\nAku siapa? hayo siapa\n"
    }
   ],
   "source": [
    "print(\"Siapa kamu? kenalan dong.\")\n",
    "print(\"Aku siapa? hayo siapa\")"
   ]
  },
  {
   "cell_type": "code",
   "execution_count": 4,
   "metadata": {},
   "outputs": [
    {
     "output_type": "stream",
     "name": "stdout",
     "text": "Siapa kamu? kenalan dong.\n\nAku siapa? hayo siapa.\n"
    }
   ],
   "source": [
    "print(\"Siapa kamu? kenalan dong.\")\n",
    "print()#memberikan hasil baris kosong\n",
    "print(\"Aku siapa? hayo siapa.\")"
   ]
  },
  {
   "cell_type": "code",
   "execution_count": 5,
   "metadata": {},
   "outputs": [
    {
     "output_type": "stream",
     "name": "stdout",
     "text": "nama saya Jabbar\n"
    }
   ],
   "source": [
    "a= \"Jabbar\"\n",
    "print(\"nama saya\", a)"
   ]
  },
  {
   "cell_type": "code",
   "execution_count": 6,
   "metadata": {},
   "outputs": [
    {
     "output_type": "stream",
     "name": "stdout",
     "text": "Siapa kamu?\nkenalan dong.\n\nAku siapa?\nhayo siapa.\n"
    }
   ],
   "source": [
    "print(\"Siapa kamu?\\nkenalan dong.\")\n",
    "print()\n",
    "print(\"Aku siapa?\\nhayo siapa.\")\n",
    "#newline character (\\n) memberikan perintah agar dimulai baris baru"
   ]
  },
  {
   "cell_type": "code",
   "execution_count": 7,
   "metadata": {},
   "outputs": [
    {
     "output_type": "stream",
     "name": "stdout",
     "text": "The itsy bitsy solder climbed up the waterspout\n"
    }
   ],
   "source": [
    "print(\"The itsy bitsy solder\" , \"climbed up\" , \"the waterspout\")"
   ]
  },
  {
   "cell_type": "code",
   "execution_count": 8,
   "metadata": {},
   "outputs": [
    {
     "output_type": "stream",
     "name": "stdout",
     "text": "My name is Python. Monty Python.\n"
    }
   ],
   "source": [
    "print(\"My name is\" , \"Python.\" , end=\" \")\n",
    "print(\"Monty Python.\")"
   ]
  },
  {
   "cell_type": "code",
   "execution_count": 9,
   "metadata": {},
   "outputs": [
    {
     "output_type": "stream",
     "name": "stdout",
     "text": "ayo_kita_belajar*operasi*Python.*\nThe end\n"
    }
   ],
   "source": [
    "print(\"ayo\" , \"kita\" , \"belajar\", sep=\"_\", end=\"*\")\n",
    "print(\"operasi\", \"Python.\", sep=\"*\", end=\"*\\n\")\n",
    "print(\"The end\")"
   ]
  },
  {
   "cell_type": "code",
   "execution_count": 10,
   "metadata": {},
   "outputs": [
    {
     "output_type": "stream",
     "name": "stdout",
     "text": "belajar***pemrograman***di...Python\n"
    }
   ],
   "source": [
    "print(\"belajar\",\"pemrograman\",\"di\", sep=\"***\", end=\"...\")\n",
    "print(\"Python\")"
   ]
  },
  {
   "cell_type": "code",
   "execution_count": 11,
   "metadata": {},
   "outputs": [
    {
     "output_type": "execute_result",
     "data": {
      "text/plain": "300000000.0"
     },
     "metadata": {},
     "execution_count": 11
    }
   ],
   "source": [
    "3E8 #float karena mengandung desimal."
   ]
  },
  {
   "cell_type": "code",
   "execution_count": 12,
   "metadata": {},
   "outputs": [
    {
     "output_type": "execute_result",
     "data": {
      "text/plain": "0.00662"
     },
     "metadata": {},
     "execution_count": 12
    }
   ],
   "source": [
    "6.62E-3"
   ]
  },
  {
   "source": [
    "9+5 #oddition"
   ],
   "cell_type": "code",
   "metadata": {},
   "execution_count": 13,
   "outputs": [
    {
     "output_type": "execute_result",
     "data": {
      "text/plain": "14"
     },
     "metadata": {},
     "execution_count": 13
    }
   ]
  },
  {
   "cell_type": "code",
   "execution_count": 14,
   "metadata": {},
   "outputs": [
    {
     "output_type": "execute_result",
     "data": {
      "text/plain": "5"
     },
     "metadata": {},
     "execution_count": 14
    }
   ],
   "source": [
    "8-3 #subtraction"
   ]
  },
  {
   "cell_type": "code",
   "execution_count": 15,
   "metadata": {},
   "outputs": [
    {
     "output_type": "execute_result",
     "data": {
      "text/plain": "64"
     },
     "metadata": {},
     "execution_count": 15
    }
   ],
   "source": [
    "8*8 #multiplication"
   ]
  },
  {
   "cell_type": "code",
   "execution_count": 16,
   "metadata": {},
   "outputs": [
    {
     "output_type": "execute_result",
     "data": {
      "text/plain": "1.8"
     },
     "metadata": {},
     "execution_count": 16
    }
   ],
   "source": [
    "9/5 #classic divisiom"
   ]
  },
  {
   "cell_type": "code",
   "execution_count": 17,
   "metadata": {},
   "outputs": [
    {
     "output_type": "stream",
     "name": "stdout",
     "text": "4\n4.0\n"
    }
   ],
   "source": [
    "#floor/integer division\n",
    "print(9//2) #pembulatan kebawah menghasilkan integer\n",
    "print(9.5//2) #pembulatan kebawah menghasilkan float"
   ]
  },
  {
   "cell_type": "code",
   "execution_count": 18,
   "metadata": {},
   "outputs": [
    {
     "output_type": "stream",
     "name": "stdout",
     "text": "81\n81.0\n81.0\n81.0\n"
    }
   ],
   "source": [
    "#exponentiation\n",
    "print(9**2)\n",
    "print(9.**2.)\n",
    "print(9**2.)\n",
    "print(9.**2)"
   ]
  },
  {
   "cell_type": "code",
   "execution_count": 19,
   "metadata": {},
   "outputs": [
    {
     "output_type": "stream",
     "name": "stdout",
     "text": "1\n3\n"
    }
   ],
   "source": [
    "#modulus\n",
    "print(9%2) #sisa pembagian\n",
    "print(8%5)"
   ]
  },
  {
   "source": [
    "print(2**3**2) #operasi dari kanan 2**(3**2)"
   ],
   "cell_type": "code",
   "metadata": {},
   "execution_count": 20,
   "outputs": [
    {
     "output_type": "stream",
     "name": "stdout",
     "text": "512\n"
    }
   ]
  },
  {
   "cell_type": "code",
   "execution_count": 21,
   "metadata": {},
   "outputs": [],
   "source": [
    "tinggi_1 = 85\n",
    "tinggi_1 = 90"
   ]
  },
  {
   "cell_type": "code",
   "execution_count": 22,
   "metadata": {},
   "outputs": [],
   "source": [
    "berat_1 = 50\n",
    "berat_2 = 60"
   ]
  },
  {
   "cell_type": "code",
   "execution_count": 23,
   "metadata": {},
   "outputs": [
    {
     "output_type": "stream",
     "name": "stdout",
     "text": "90 90\n50 60\n"
    }
   ],
   "source": [
    "print(tinggi_1,tinggi_1)\n",
    "print(berat_1,berat_2)"
   ]
  },
  {
   "cell_type": "code",
   "execution_count": 24,
   "metadata": {},
   "outputs": [
    {
     "output_type": "stream",
     "name": "stdout",
     "text": "3\n"
    }
   ],
   "source": [
    "t1 = 1\n",
    "t2 = 2\n",
    "t1 = t1+2 #t1 yang akan dimasukkan adalah t1 terakhir yaitu 2\n",
    "print(t1)"
   ]
  },
  {
   "cell_type": "code",
   "execution_count": 25,
   "metadata": {},
   "outputs": [
    {
     "output_type": "stream",
     "name": "stdout",
     "text": "4\n6\n"
    }
   ],
   "source": [
    "var = 4\n",
    "print(var)\n",
    "var = 6\n",
    "print(var)"
   ]
  },
  {
   "cell_type": "code",
   "execution_count": 26,
   "metadata": {},
   "outputs": [],
   "source": [
    "i = 2\n",
    "j = 5\n",
    "k = 8\n",
    "l = 6\n",
    "m = 10"
   ]
  },
  {
   "cell_type": "code",
   "execution_count": 27,
   "metadata": {},
   "outputs": [
    {
     "output_type": "stream",
     "name": "stdout",
     "text": "10\n"
    }
   ],
   "source": [
    "#i=i+4*2 -> i=10\n",
    "i += 4*2\n",
    "print(i)"
   ]
  },
  {
   "cell_type": "code",
   "execution_count": 28,
   "metadata": {},
   "outputs": [
    {
     "output_type": "stream",
     "name": "stdout",
     "text": "4.0\n"
    }
   ],
   "source": [
    "#k=k/2 -> k=4\n",
    "k /= 2\n",
    "print(k)"
   ]
  },
  {
   "cell_type": "code",
   "execution_count": 29,
   "metadata": {},
   "outputs": [
    {
     "output_type": "stream",
     "name": "stdout",
     "text": "100\n"
    }
   ],
   "source": [
    "#m=m**2 ->m=100\n",
    "m **=2\n",
    "print(m)"
   ]
  },
  {
   "cell_type": "code",
   "execution_count": 30,
   "metadata": {},
   "outputs": [
    {
     "output_type": "stream",
     "name": "stdout",
     "text": "Namaku Jabbar\n"
    }
   ],
   "source": [
    "#FUNGSI INPUT\n",
    "nama = input(\"Namamu siapa? :\") #hasil fungsi input () ini berupa string\n",
    "print(\"Namaku\",nama)"
   ]
  },
  {
   "cell_type": "code",
   "execution_count": 31,
   "metadata": {},
   "outputs": [
    {
     "output_type": "stream",
     "name": "stdout",
     "text": "jadi nilai IPK ku adalah 3.75\n"
    }
   ],
   "source": [
    "ips_1 = float(input(\"Nilai IPS semester 1 : \"))\n",
    "ips_2 = float(input(\"Nilai IPS semester 2 : \"))\n",
    "ipk = (ips_1+ips_2)/2.0 #agar dapat dilakukan operasi aritmatika, variabel harus bersifat numerik\n",
    "print(\"jadi nilai IPK ku adalah\", ipk)"
   ]
  },
  {
   "cell_type": "code",
   "execution_count": 34,
   "metadata": {},
   "outputs": [
    {
     "output_type": "stream",
     "name": "stdout",
     "text": "Namaku adalah Abdullah Jabbar Daimuddin\n"
    }
   ],
   "source": [
    "#OPERATOR STRING\n",
    "first = input(\"Nama pertama :\")\n",
    "last = input(\"Nama terakhir :\")\n",
    "print(\"Namaku adalah \" + first +\" \"+ last)"
   ]
  },
  {
   "cell_type": "code",
   "execution_count": 35,
   "metadata": {},
   "outputs": [
    {
     "output_type": "stream",
     "name": "stdout",
     "text": "False\nTrue\n"
    }
   ],
   "source": [
    "#OPERATOR PERBANDINGAN\n",
    "#Equality Operator a==b, apakah a sama dengan b ?\n",
    "print(7==5)\n",
    "print(3==3)"
   ]
  },
  {
   "cell_type": "code",
   "execution_count": 36,
   "metadata": {},
   "outputs": [
    {
     "output_type": "stream",
     "name": "stdout",
     "text": "True\nFalse\n"
    }
   ],
   "source": [
    "a = 7\n",
    "print(a==7)\n",
    "print(a==3)"
   ]
  },
  {
   "cell_type": "code",
   "execution_count": 37,
   "metadata": {},
   "outputs": [
    {
     "output_type": "stream",
     "name": "stdout",
     "text": "False\nTrue\n"
    }
   ],
   "source": [
    "#Intequality Operator a!=b, apa a tidak sama dengan b?\n",
    "print(3!=3)\n",
    "print(7!=5)"
   ]
  },
  {
   "cell_type": "code",
   "execution_count": 38,
   "metadata": {},
   "outputs": [
    {
     "output_type": "stream",
     "name": "stdout",
     "text": "oops sorry\n"
    }
   ],
   "source": [
    "a = int(input(\"Masukkan nilai a: \"))\n",
    "b = int(input(\"Masukkan nilai b: \"))\n",
    "if a==b:\n",
    "    print(\"yeay!\")\n",
    "print(\"oops sorry\") #syarat terpenuhi atau tidak, perintah ini berlaku dalam keadaan apapun"
   ]
  },
  {
   "cell_type": "code",
   "execution_count": 39,
   "metadata": {},
   "outputs": [
    {
     "output_type": "stream",
     "name": "stdout",
     "text": "angka yang lebih besar: 7\n"
    }
   ],
   "source": [
    "num1 = int(input(\"Masukkan angka pertama: \"))\n",
    "num2 = int(input(\"Masukkan angka kedua: \"))\n",
    "\n",
    "#Memilih angka yang lebih besar\n",
    "if num1>num2:\n",
    "    besar = num1\n",
    "else:\n",
    "    besar = num2\n",
    "    \n",
    "#Menampilkan hasil\n",
    "print(\"angka yang lebih besar:\", besar)"
   ]
  },
  {
   "cell_type": "code",
   "execution_count": 41,
   "metadata": {},
   "outputs": [
    {
     "output_type": "stream",
     "name": "stdout",
     "text": "yeay benar sekali\n"
    }
   ],
   "source": [
    "fav_food = input(\"Makanan kesukaanmu: \")\n",
    "if fav_food==\"Nasi goreng\":\n",
    "    print(\"yeay benar sekali\")\n",
    "else:\n",
    "    print(\"oops\")"
   ]
  },
  {
   "cell_type": "code",
   "execution_count": 44,
   "metadata": {},
   "outputs": [
    {
     "output_type": "stream",
     "name": "stdout",
     "text": "gotcha\ngotcha\n"
    }
   ],
   "source": [
    "#WHILE\n",
    "besar = 10\n",
    "num1 = int(input(\"Masukkan angka pertama: \"))\n",
    "\n",
    "while num1!=10:\n",
    "    if num1>besar:\n",
    "        besar = num1\n",
    "    num1 = int(input(\"Masukkan angka pertama: \"))\n",
    "    print(\"gotcha\")"
   ]
  },
  {
   "cell_type": "code",
   "execution_count": 45,
   "metadata": {},
   "outputs": [
    {
     "output_type": "stream",
     "name": "stdout",
     "text": "nilai i adalah 0\nnilai i adalah 1\nnilai i adalah 2\nnilai i adalah 3\nnilai i adalah 4\nnilai i adalah 5\nnilai i adalah 6\nnilai i adalah 7\nnilai i adalah 8\nnilai i adalah 9\nnilai i adalah 10\nnilai i adalah 11\n"
    }
   ],
   "source": [
    "#FOR\n",
    "for i in range (12):\n",
    "    print(\"nilai i adalah\", i)"
   ]
  },
  {
   "cell_type": "code",
   "execution_count": 47,
   "metadata": {},
   "outputs": [
    {
     "output_type": "stream",
     "name": "stdout",
     "text": "nilai i adalah 7\nnilai i adalah 8\nnilai i adalah 9\nnilai i adalah 10\nnilai i adalah 11\nnilai i adalah 12\nnilai i adalah 13\nnilai i adalah 14\nnilai i adalah 15\nnilai i adalah 16\nnilai i adalah 17\nnilai i adalah 18\nnilai i adalah 19\n"
    }
   ],
   "source": [
    "for i in range (7,20):\n",
    "    print(\"nilai i adalah\", i)"
   ]
  },
  {
   "cell_type": "code",
   "execution_count": 48,
   "metadata": {},
   "outputs": [
    {
     "output_type": "stream",
     "name": "stdout",
     "text": "inside the loop. 1\ninside the loop. 2\noutside the loop\n"
    }
   ],
   "source": [
    "#contoh break\n",
    "for i in range(1,6):\n",
    "    if i==3:\n",
    "        break\n",
    "    print(\"inside the loop.\", i)\n",
    "print(\"outside the loop\")"
   ]
  },
  {
   "cell_type": "code",
   "execution_count": 49,
   "metadata": {},
   "outputs": [
    {
     "output_type": "stream",
     "name": "stdout",
     "text": "inside the loop. 1\ninside the loop. 2\ninside the loop. 3\ninside the loop. 5\ninside the loop. 6\ninside the loop. 7\ninside the loop. 8\noutside the loop\n"
    }
   ],
   "source": [
    "#contoh continue\n",
    "for i in range(1,9):\n",
    "    if i==4:\n",
    "        continue #melompati atau melanjutkan ke looping berikutnya\n",
    "    print(\"inside the loop.\", i)\n",
    "print(\"outside the loop\")"
   ]
  },
  {
   "cell_type": "code",
   "execution_count": 50,
   "metadata": {},
   "outputs": [
    {
     "output_type": "stream",
     "name": "stdout",
     "text": "elemen-elemen asli:  [10, 5, 7, 2, 1]\nperubahan elemen: [111, 5, 7, 2, 1]\nperubahan elemen: [111, 2, 7, 2, 1]\n"
    }
   ],
   "source": [
    "num = [10, 5, 7, 2,1]\n",
    "print(\"elemen-elemen asli: \", num)\n",
    "\n",
    "num[0] = 111\n",
    "print(\"perubahan elemen:\", num)\n",
    "\n",
    "num[1] = num[3]\n",
    "print(\"perubahan elemen:\", num)"
   ]
  },
  {
   "cell_type": "code",
   "execution_count": 51,
   "metadata": {},
   "outputs": [
    {
     "output_type": "execute_result",
     "data": {
      "text/plain": "5"
     },
     "metadata": {},
     "execution_count": 51
    }
   ],
   "source": [
    "#fungsi len()\n",
    "len(num)"
   ]
  },
  {
   "cell_type": "code",
   "execution_count": 52,
   "metadata": {},
   "outputs": [
    {
     "output_type": "stream",
     "name": "stdout",
     "text": "[111, 2, 2, 1]\n4\n"
    }
   ],
   "source": [
    "#intruksi del\n",
    "del num[2]\n",
    "print(num)\n",
    "print(len(num))"
   ]
  },
  {
   "cell_type": "code",
   "execution_count": 53,
   "metadata": {},
   "outputs": [
    {
     "output_type": "stream",
     "name": "stdout",
     "text": "4\n[100, 101, 102, 103]\n5\n[100, 101, 102, 103, 104]\n"
    }
   ],
   "source": [
    "#append() method\n",
    "num = [100,101,102,103]\n",
    "print(len(num))\n",
    "print(num)\n",
    "\n",
    "num.append(104)\n",
    "print(len(num))\n",
    "print(num)"
   ]
  },
  {
   "cell_type": "code",
   "execution_count": 54,
   "metadata": {},
   "outputs": [
    {
     "output_type": "stream",
     "name": "stdout",
     "text": "Hei itu bukan suatu nilai\n"
    }
   ],
   "source": [
    "#None\n",
    "value = None\n",
    "if value == None:\n",
    "    print(\"Hei itu bukan suatu nilai\")"
   ]
  },
  {
   "cell_type": "code",
   "execution_count": 56,
   "metadata": {},
   "outputs": [
    {
     "output_type": "stream",
     "name": "stdout",
     "text": "True\nNone\n"
    }
   ],
   "source": [
    "def angka(n):\n",
    "    if(n % 2 == 0):\n",
    "        return True\n",
    "    \n",
    "print(angka(16))\n",
    "print(angka(17))"
   ]
  },
  {
   "cell_type": "code",
   "execution_count": 57,
   "metadata": {},
   "outputs": [
    {
     "output_type": "stream",
     "name": "stdout",
     "text": "{'Jabbar': '031777111', 'Viole': '03188776'}\n{}\n03188776\n"
    }
   ],
   "source": [
    "#Dictionaries\n",
    "nomortelp = {'Jabbar' : '031777111', 'Viole' : '03188776'}\n",
    "kamuskosong = {}\n",
    "\n",
    "print(nomortelp)\n",
    "print(kamuskosong)\n",
    "print(nomortelp['Viole'])"
   ]
  },
  {
   "cell_type": "code",
   "execution_count": 59,
   "metadata": {},
   "outputs": [
    {
     "output_type": "stream",
     "name": "stdout",
     "text": "{'Indonesia': 'Bahasa Indonesia', 'China': 'Mandarin'}\n{'Indonesia': 'Bahasa Indonesia', 'China': 'Mandarin'}\n"
    }
   ],
   "source": [
    "#Menghapus Item\n",
    "bahasa = {'Indonesia':'Bahasa Indonesia','China':'Mandarin', 'England':'English'}\n",
    "del bahasa['England']\n",
    "print(bahasa)\n",
    "\n",
    "#Menghapus item paling terakhir\n",
    "bahasa = {'Indonesia':'Bahasa Indonesia','China':'Mandarin', 'England':'English'}\n",
    "bahasa.popitem()\n",
    "print(bahasa)"
   ]
  },
  {
   "cell_type": "code",
   "execution_count": 60,
   "metadata": {},
   "outputs": [
    {
     "output_type": "stream",
     "name": "stdout",
     "text": "{'Malay': 'Melayu', 'China': 'Mandarin', 'Amerika': 'English'}\n"
    }
   ],
   "source": [
    "#Mengubah format tuple ke dictionaries\n",
    "bahasa = (('Malay','Melayu'),('China','Mandarin'), ('Amerika','English'))\n",
    "newdict = dict(bahasa)\n",
    "print(newdict)"
   ]
  }
 ],
 "metadata": {
  "language_info": {
   "codemirror_mode": {
    "name": "ipython",
    "version": 3
   },
   "file_extension": ".py",
   "mimetype": "text/x-python",
   "name": "python",
   "nbconvert_exporter": "python",
   "pygments_lexer": "ipython3",
   "version": "3.8.2-final"
  },
  "orig_nbformat": 2,
  "kernelspec": {
   "name": "python38232bit404313b63f7a44708c0737c63c4d8b46",
   "display_name": "Python 3.8.2 32-bit"
  }
 },
 "nbformat": 4,
 "nbformat_minor": 2
}